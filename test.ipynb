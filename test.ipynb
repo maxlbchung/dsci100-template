{
 "cells": [
  {
   "cell_type": "code",
   "execution_count": 1,
   "id": "f759f343-1777-4de4-b53a-dff8b4765a14",
   "metadata": {},
   "outputs": [
    {
     "name": "stdout",
     "output_type": "stream",
     "text": [
      "[1] \"hello world\"\n"
     ]
    }
   ],
   "source": [
    "print(\"hello world\")"
   ]
  },
  {
   "cell_type": "code",
   "execution_count": 2,
   "id": "d3f3b5a7-d104-4798-be40-dc5529dd8f6a",
   "metadata": {},
   "outputs": [
    {
     "data": {
      "text/html": [
       "-28"
      ],
      "text/latex": [
       "-28"
      ],
      "text/markdown": [
       "-28"
      ],
      "text/plain": [
       "[1] -28"
      ]
     },
     "metadata": {},
     "output_type": "display_data"
    }
   ],
   "source": [
    "50-78"
   ]
  },
  {
   "cell_type": "code",
   "execution_count": null,
   "id": "0b9e2e9d-5a0e-43bf-9ca7-f4191c3e4a3e",
   "metadata": {},
   "outputs": [],
   "source": []
  }
 ],
 "metadata": {
  "kernelspec": {
   "display_name": "R",
   "language": "R",
   "name": "ir"
  },
  "language_info": {
   "codemirror_mode": "r",
   "file_extension": ".r",
   "mimetype": "text/x-r-source",
   "name": "R",
   "pygments_lexer": "r",
   "version": "4.3.3"
  }
 },
 "nbformat": 4,
 "nbformat_minor": 5
}
